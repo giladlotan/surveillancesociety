{
 "cells": [
  {
   "cell_type": "markdown",
   "metadata": {},
   "source": [
    "## Interest Graph"
   ]
  },
  {
   "cell_type": "code",
   "execution_count": 195,
   "metadata": {
    "collapsed": false
   },
   "outputs": [
    {
     "name": "stdout",
     "output_type": "stream",
     "text": [
      "<twitter.api.Api object at 0x1100a0450>\n"
     ]
    }
   ],
   "source": [
    "# pip install python-twitter -> run that command in your remote machine's terminal window to install the Twitter wrapper\n",
    "import twitter\n",
    "\n",
    "# Twitter API keys go here\n",
    "CONSUMER_KEY = ''\n",
    "CONSUMER_SECRET = ''\n",
    "\n",
    "OAUTH_TOKEN = ''\n",
    "OAUTH_TOKEN_SECRET = ''\n",
    "\n",
    "\n",
    "# let's create an instance of the twitter.Api with our credentials\n",
    "api = twitter.Api(consumer_key=CONSUMER_KEY,\n",
    "                  consumer_secret=CONSUMER_SECRET,\n",
    "                  access_token_key=OAUTH_TOKEN,\n",
    "                  access_token_secret=OAUTH_TOKEN_SECRET\n",
    ")\n",
    "\n",
    "print api"
   ]
  },
  {
   "cell_type": "code",
   "execution_count": 73,
   "metadata": {
    "collapsed": true
   },
   "outputs": [],
   "source": [
    "sn = 'gilgul'\n",
    "\n",
    "# helps with pagination - returns next_cursor, previous_cursor, and data\n",
    "\n",
    "f = api.GetFriendIDsPaged(screen_name=sn)"
   ]
  },
  {
   "cell_type": "code",
   "execution_count": null,
   "metadata": {
    "collapsed": false
   },
   "outputs": [],
   "source": [
    "f"
   ]
  },
  {
   "cell_type": "code",
   "execution_count": 75,
   "metadata": {
    "collapsed": true
   },
   "outputs": [],
   "source": [
    "friend_ids = f[2]"
   ]
  },
  {
   "cell_type": "code",
   "execution_count": 76,
   "metadata": {
    "collapsed": true
   },
   "outputs": [],
   "source": [
    "# paginate -> make the next API call\n",
    "\n",
    "f = api.GetFriendIDsPaged(screen_name=sn, cursor=f[0])"
   ]
  },
  {
   "cell_type": "code",
   "execution_count": 77,
   "metadata": {
    "collapsed": false
   },
   "outputs": [
    {
     "data": {
      "text/plain": [
       "(-1, -1, [])"
      ]
     },
     "execution_count": 77,
     "metadata": {},
     "output_type": "execute_result"
    }
   ],
   "source": [
    "f"
   ]
  },
  {
   "cell_type": "code",
   "execution_count": null,
   "metadata": {
    "collapsed": false
   },
   "outputs": [],
   "source": []
  },
  {
   "cell_type": "code",
   "execution_count": 78,
   "metadata": {
    "collapsed": false
   },
   "outputs": [],
   "source": [
    "# we can do this a few times -> paginate through friends list!\n",
    "# in my case, there's no need\n",
    "\n",
    "#f = api.GetFriendIDsPaged(screen_name=sn, cursor=f[0])\n",
    "#friend_ids += f[2]\n",
    "#len(friend_ids)"
   ]
  },
  {
   "cell_type": "code",
   "execution_count": 79,
   "metadata": {
    "collapsed": false
   },
   "outputs": [],
   "source": [
    "# now lets get user info\n",
    "\n",
    "friend_ids[0]\n",
    "ans = api.GetUser(user_id=friend_ids[0])"
   ]
  },
  {
   "cell_type": "code",
   "execution_count": 80,
   "metadata": {
    "collapsed": false
   },
   "outputs": [
    {
     "data": {
      "text/plain": [
       "u'kevinstownsend'"
      ]
     },
     "execution_count": 80,
     "metadata": {},
     "output_type": "execute_result"
    }
   ],
   "source": [
    "ans.screen_name"
   ]
  },
  {
   "cell_type": "code",
   "execution_count": 81,
   "metadata": {
    "collapsed": false,
    "scrolled": true
   },
   "outputs": [
    {
     "data": {
      "text/plain": [
       "{u'created_at': u'Thu Oct 14 05:18:32 +0000 2010',\n",
       " u'description': u'Word+Data Journalist \\u2022 @Slate @BuzzFeed \\u2022 @Stanford + @Columbia \\u2022 GPG: 78C8 FCFB D3F3 7296 0C8D 5666 3744 5357 1F70 1DC8',\n",
       " u'favourites_count': 1750,\n",
       " u'followers_count': 771,\n",
       " u'following': True,\n",
       " u'friends_count': 627,\n",
       " u'geo_enabled': True,\n",
       " u'id': 202503479,\n",
       " u'lang': u'en',\n",
       " u'listed_count': 39,\n",
       " u'location': u'Washington, DC',\n",
       " u'name': u'Kevin Townsend',\n",
       " u'profile_background_color': u'9AE4E8',\n",
       " u'profile_background_image_url': u'http://pbs.twimg.com/profile_background_images/628897612/ytry1i6xfxamrzsmh43r.jpeg',\n",
       " u'profile_background_tile': True,\n",
       " u'profile_banner_url': u'https://pbs.twimg.com/profile_banners/202503479/1398233971',\n",
       " u'profile_image_url': u'http://pbs.twimg.com/profile_images/2512365434/tqv64998hyrlv6zgyx80_normal.jpeg',\n",
       " u'profile_link_color': u'0084B4',\n",
       " u'profile_sidebar_fill_color': u'DAECF4',\n",
       " u'profile_text_color': u'663B12',\n",
       " u'screen_name': u'kevinstownsend',\n",
       " u'status': {u'created_at': u'Sun Dec 04 16:57:29 +0000 2016',\n",
       "  u'hashtags': [],\n",
       "  u'id': 805455998358003717,\n",
       "  u'id_str': u'805455998358003717',\n",
       "  u'lang': u'en',\n",
       "  u'retweet_count': 20,\n",
       "  u'retweeted_status': {u'created_at': u'Sat Dec 03 23:14:46 +0000 2016',\n",
       "   u'favorite_count': 9,\n",
       "   u'hashtags': [],\n",
       "   u'id': 805188556222238721,\n",
       "   u'id_str': u'805188556222238721',\n",
       "   u'lang': u'en',\n",
       "   u'retweet_count': 20,\n",
       "   u'source': u'<a href=\"http://twitter.com/download/iphone\" rel=\"nofollow\">Twitter for iPhone</a>',\n",
       "   u'text': u'Smart. @BuzzFeedNews looked at the news outlets Trump linked to most in his tweets. The result? See for yourself. https://t.co/4m4fjlFYUw',\n",
       "   u'urls': [{u'expanded_url': u'http://nzzl.us/igg2vft',\n",
       "     u'url': u'https://t.co/4m4fjlFYUw'}],\n",
       "   u'user_mentions': [{u'id': 1020058453,\n",
       "     u'name': u'BuzzFeed News',\n",
       "     u'screen_name': u'BuzzFeedNews'}]},\n",
       "  u'source': u'<a href=\"http://twitter.com\" rel=\"nofollow\">Twitter Web Client</a>',\n",
       "  u'text': u'RT @charlesornstein: Smart. @BuzzFeedNews looked at the news outlets Trump linked to most in his tweets. The result? See for yourself. http\\u2026',\n",
       "  u'urls': [],\n",
       "  u'user_mentions': [{u'id': 22278303,\n",
       "    u'name': u'Charles Ornstein',\n",
       "    u'screen_name': u'charlesornstein'},\n",
       "   {u'id': 1020058453,\n",
       "    u'name': u'BuzzFeed News',\n",
       "    u'screen_name': u'BuzzFeedNews'}]},\n",
       " u'statuses_count': 4865,\n",
       " u'time_zone': u'Alaska',\n",
       " u'url': u'https://t.co/HCOkmpK9SB',\n",
       " u'utc_offset': -32400}"
      ]
     },
     "execution_count": 81,
     "metadata": {},
     "output_type": "execute_result"
    }
   ],
   "source": [
    "ans.AsDict()"
   ]
  },
  {
   "cell_type": "code",
   "execution_count": 82,
   "metadata": {
    "collapsed": false
   },
   "outputs": [
    {
     "data": {
      "text/plain": [
       "EndpointRateLimit(limit=900, remaining=899, reset=1480909765)"
      ]
     },
     "execution_count": 82,
     "metadata": {},
     "output_type": "execute_result"
    }
   ],
   "source": [
    "# rate limit\n",
    "\n",
    "resource_url = 'https://api.twitter.com/1.1/users/show.json'\n",
    "api.rate_limit.get_limit(resource_url)"
   ]
  },
  {
   "cell_type": "code",
   "execution_count": 83,
   "metadata": {
    "collapsed": false
   },
   "outputs": [
    {
     "data": {
      "text/plain": [
       "899"
      ]
     },
     "execution_count": 83,
     "metadata": {},
     "output_type": "execute_result"
    }
   ],
   "source": [
    "a = api.rate_limit.get_limit(resource_url)\n",
    "a.remaining"
   ]
  },
  {
   "cell_type": "code",
   "execution_count": null,
   "metadata": {
    "collapsed": false
   },
   "outputs": [],
   "source": [
    "user_info={}\n",
    "\n",
    "for u_id in friend_ids:\n",
    "    \n",
    "    # check rate limiting\n",
    "    remaining = api.rate_limit.get_limit(resource_url).remaining\n",
    "    if remaining == 0:\n",
    "        break\n",
    "        \n",
    "    # check if we already have this user's info, continue onto the next iteration\n",
    "    if u_id in user_info.keys():\n",
    "        continue\n",
    "        \n",
    "    # otherwise - get this user's info\n",
    "    user_info[u_id] = api.GetUser(user_id=u_id)\n",
    "    print 'got user', user_info[u_id].screen_name\n",
    "    \n",
    "    # print\n",
    "    if len(user_info) % 10 == 0:\n",
    "        print len(user_info)"
   ]
  },
  {
   "cell_type": "code",
   "execution_count": 85,
   "metadata": {
    "collapsed": false
   },
   "outputs": [
    {
     "data": {
      "text/plain": [
       "899"
      ]
     },
     "execution_count": 85,
     "metadata": {},
     "output_type": "execute_result"
    }
   ],
   "source": [
    "len(user_info)"
   ]
  },
  {
   "cell_type": "code",
   "execution_count": null,
   "metadata": {
    "collapsed": true
   },
   "outputs": [],
   "source": []
  },
  {
   "cell_type": "code",
   "execution_count": null,
   "metadata": {
    "collapsed": true
   },
   "outputs": [],
   "source": []
  },
  {
   "cell_type": "code",
   "execution_count": 95,
   "metadata": {
    "collapsed": true
   },
   "outputs": [],
   "source": [
    "import networkx as nx\n",
    "\n",
    "# Create Graph\n",
    "\n",
    "g = nx.DiGraph()"
   ]
  },
  {
   "cell_type": "code",
   "execution_count": 96,
   "metadata": {
    "collapsed": false
   },
   "outputs": [],
   "source": [
    "g.add_nodes_from([(u_id, {'label':u.screen_name, 'followers':u.followers_count}) for u_id,u in user_info.items()])"
   ]
  },
  {
   "cell_type": "code",
   "execution_count": 112,
   "metadata": {
    "collapsed": false
   },
   "outputs": [
    {
     "data": {
      "text/plain": [
       "{'followers': 28455, 'label': u'DeepDrumpf'}"
      ]
     },
     "execution_count": 112,
     "metadata": {},
     "output_type": "execute_result"
    }
   ],
   "source": [
    "g.node[705113652471439361]"
   ]
  },
  {
   "cell_type": "code",
   "execution_count": 113,
   "metadata": {
    "collapsed": false
   },
   "outputs": [
    {
     "data": {
      "text/plain": [
       "u'DeepDrumpf'"
      ]
     },
     "execution_count": 113,
     "metadata": {},
     "output_type": "execute_result"
    }
   ],
   "source": [
    "g.node[705113652471439361]['label']"
   ]
  },
  {
   "cell_type": "code",
   "execution_count": null,
   "metadata": {
    "collapsed": true
   },
   "outputs": [],
   "source": []
  },
  {
   "cell_type": "code",
   "execution_count": 123,
   "metadata": {
    "collapsed": true
   },
   "outputs": [],
   "source": [
    "# lets see which edges we can add for ITP\n",
    "\n",
    "cur_user = 'ITP_NYU'\n",
    "cur_id = 65410718\n",
    "follows = api.GetFriendIDsPaged(user_id=cur_id)\n",
    "\n",
    "# save the results in a dict\n",
    "all_edges = {}\n",
    "all_edges[cur_id]=follows"
   ]
  },
  {
   "cell_type": "code",
   "execution_count": 126,
   "metadata": {
    "collapsed": false
   },
   "outputs": [
    {
     "data": {
      "text/plain": [
       "[1536791610,\n",
       " 266060880,\n",
       " 111057129,\n",
       " 19605305,\n",
       " 23677076,\n",
       " 373729837,\n",
       " 36443,\n",
       " 20338182,\n",
       " 8112862,\n",
       " 627683742,\n",
       " 5454152,\n",
       " 17653842,\n",
       " 2384071,\n",
       " 48048511,\n",
       " 935447275,\n",
       " 388077354,\n",
       " 7482,\n",
       " 14338436,\n",
       " 817409,\n",
       " 768632,\n",
       " 12997952,\n",
       " 190807773]"
      ]
     },
     "execution_count": 126,
     "metadata": {},
     "output_type": "execute_result"
    }
   ],
   "source": [
    "# out of all the users that @ITP_NYU follows, lets add edges only to users who exist\n",
    "# as nodes in our graph\n",
    "\n",
    "follow_intersection = [x for x in follows[2] if x in g.nodes()]\n",
    "follow_intersection"
   ]
  },
  {
   "cell_type": "code",
   "execution_count": 127,
   "metadata": {
    "collapsed": true
   },
   "outputs": [],
   "source": [
    "for u_id in follow_intersection:\n",
    "    \n",
    "    # add edge from @ITP_NYU (remember: directed graph)\n",
    "    g.add_edge(cur_id, u_id)\n",
    "    "
   ]
  },
  {
   "cell_type": "code",
   "execution_count": 129,
   "metadata": {
    "collapsed": false,
    "scrolled": true
   },
   "outputs": [
    {
     "data": {
      "text/plain": [
       "[(65410718, 817409),\n",
       " (65410718, 14338436),\n",
       " (65410718, 20338182),\n",
       " (65410718, 23677076),\n",
       " (65410718, 627683742),\n",
       " (65410718, 388077354),\n",
       " (65410718, 373729837),\n",
       " (65410718, 19605305),\n",
       " (65410718, 1536791610),\n",
       " (65410718, 7482),\n",
       " (65410718, 12997952),\n",
       " (65410718, 2384071),\n",
       " (65410718, 5454152),\n",
       " (65410718, 266060880),\n",
       " (65410718, 17653842),\n",
       " (65410718, 36443),\n",
       " (65410718, 190807773),\n",
       " (65410718, 8112862),\n",
       " (65410718, 111057129),\n",
       " (65410718, 935447275),\n",
       " (65410718, 768632),\n",
       " (65410718, 48048511)]"
      ]
     },
     "execution_count": 129,
     "metadata": {},
     "output_type": "execute_result"
    }
   ],
   "source": [
    "# we have a handful of edges\n",
    "\n",
    "g.edges()"
   ]
  },
  {
   "cell_type": "code",
   "execution_count": 197,
   "metadata": {
    "collapsed": false
   },
   "outputs": [
    {
     "data": {
      "text/plain": [
       "EndpointRateLimit(limit=15, remaining=15, reset=0)"
      ]
     },
     "execution_count": 197,
     "metadata": {},
     "output_type": "execute_result"
    }
   ],
   "source": [
    "# rate limiting\n",
    "\n",
    "resource_url = 'https://api.twitter.com/1.1/friends/ids.json'\n",
    "api.rate_limit.get_limit(resource_url)"
   ]
  },
  {
   "cell_type": "code",
   "execution_count": 198,
   "metadata": {
    "collapsed": false
   },
   "outputs": [
    {
     "name": "stdout",
     "output_type": "stream",
     "text": [
      "2016-12-04 23:57:40\n"
     ]
    }
   ],
   "source": [
    "from datetime import datetime\n",
    "print datetime.fromtimestamp(1480913860)"
   ]
  },
  {
   "cell_type": "code",
   "execution_count": null,
   "metadata": {
    "collapsed": false,
    "scrolled": true
   },
   "outputs": [],
   "source": [
    "remaining = api.rate_limit.get_limit(resource_url).remaining\n",
    "\n",
    "while remaining > 0:\n",
    "    \n",
    "    # pick a node\n",
    "    n = random.choice(g.nodes())\n",
    "    while n in all_edges.keys():\n",
    "        # pick different node if we already have its info\n",
    "        n = random.choice(g.nodes())\n",
    "            \n",
    "    # get friend info for n\n",
    "    follows = api.GetFriendIDsPaged(user_id=n)\n",
    "\n",
    "    # save the results in a dict\n",
    "    all_edges = {}\n",
    "    all_edges[n]=follows\n",
    "\n",
    "    follow_intersection = [x for x in follows[2] if x in g.nodes()]\n",
    "    print 'intersection:', len(follow_intersection)\n",
    "    \n",
    "    for u_id in follow_intersection:\n",
    "        g.add_edge(n, u_id)\n",
    "        \n",
    "    remaining = api.rate_limit.get_limit(resource_url).remaining\n",
    "    print 'remaining:',remaining\n",
    "    "
   ]
  },
  {
   "cell_type": "code",
   "execution_count": null,
   "metadata": {
    "collapsed": false
   },
   "outputs": [],
   "source": []
  },
  {
   "cell_type": "code",
   "execution_count": 189,
   "metadata": {
    "collapsed": true
   },
   "outputs": [],
   "source": [
    "nx.write_gexf(g, 'data/gilgul.gexf')"
   ]
  },
  {
   "cell_type": "code",
   "execution_count": null,
   "metadata": {
    "collapsed": true
   },
   "outputs": [],
   "source": []
  },
  {
   "cell_type": "code",
   "execution_count": null,
   "metadata": {
    "collapsed": true
   },
   "outputs": [],
   "source": []
  },
  {
   "cell_type": "code",
   "execution_count": null,
   "metadata": {
    "collapsed": true
   },
   "outputs": [],
   "source": []
  }
 ],
 "metadata": {
  "kernelspec": {
   "display_name": "Python 2",
   "language": "python",
   "name": "python2"
  },
  "language_info": {
   "codemirror_mode": {
    "name": "ipython",
    "version": 2
   },
   "file_extension": ".py",
   "mimetype": "text/x-python",
   "name": "python",
   "nbconvert_exporter": "python",
   "pygments_lexer": "ipython2",
   "version": "2.7.10"
  }
 },
 "nbformat": 4,
 "nbformat_minor": 1
}
