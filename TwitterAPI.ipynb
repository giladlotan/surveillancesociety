{
 "cells": [
  {
   "cell_type": "markdown",
   "metadata": {},
   "source": [
    "- Go to https://apps.twitter.com/app/new to create an app and get values for these credentials, which you'll need to provide in place of these empty string values that are defined as placeholders.\n",
    "\n",
    "\n",
    "- See https://dev.twitter.com/oauth for more information on Twitter's OAuth implementation."
   ]
  },
  {
   "cell_type": "code",
   "execution_count": null,
   "metadata": {
    "collapsed": false
   },
   "outputs": [],
   "source": [
    "# pip install python-twitter -> run that command in your remote machine's terminal window to install the Twitter wrapper\n",
    "import twitter\n",
    "\n",
    "# Twitter API keys go here\n",
    "CONSUMER_KEY = ''\n",
    "CONSUMER_SECRET = ''\n",
    "\n",
    "OAUTH_TOKEN = ''\n",
    "OAUTH_TOKEN_SECRET = ''\n",
    "\n",
    "\n",
    "# let's create an instance of the twitter.Api with our credentials\n",
    "api = twitter.Api(consumer_key=CONSUMER_KEY,\n",
    "                  consumer_secret=CONSUMER_SECRET,\n",
    "                  access_token_key=OAUTH_TOKEN,\n",
    "                  access_token_secret=OAUTH_TOKEN_SECRET\n",
    ")\n",
    "\n",
    "print api"
   ]
  },
  {
   "cell_type": "markdown",
   "metadata": {},
   "source": [
    "Wo0t! we've successfully used OAuth credentials to gain authorization to query Twitter's API!!!"
   ]
  },
  {
   "cell_type": "markdown",
   "metadata": {},
   "source": [
    "# Searching Tweets"
   ]
  },
  {
   "cell_type": "markdown",
   "metadata": {},
   "source": [
    "Let's take one of the common hashtags across trends and use it as the basis of a search query to fetch some tweets for further analysis. Here's a link to the <a class=\"ulink\" href=\"http://bit.ly/1a1l398\" target=\"\\_top\"><code class=\"literal\">GET search/tweets</code> resource</a>."
   ]
  },
  {
   "cell_type": "code",
   "execution_count": 15,
   "metadata": {
    "collapsed": false
   },
   "outputs": [],
   "source": [
    "import json\n",
    "\n",
    "q = '#NoDAPL' \n",
    "count = 100\n",
    "\n",
    "# See https://dev.twitter.com/rest/reference/get/search/tweets"
   ]
  },
  {
   "cell_type": "code",
   "execution_count": 67,
   "metadata": {
    "collapsed": false
   },
   "outputs": [],
   "source": [
    "statuses = api.GetSearch(term=q, count=count)"
   ]
  },
  {
   "cell_type": "code",
   "execution_count": 68,
   "metadata": {
    "collapsed": false
   },
   "outputs": [
    {
     "data": {
      "text/plain": [
       "100"
      ]
     },
     "execution_count": 68,
     "metadata": {},
     "output_type": "execute_result"
    }
   ],
   "source": [
    "len(statuses)"
   ]
  },
  {
   "cell_type": "code",
   "execution_count": 69,
   "metadata": {
    "collapsed": false
   },
   "outputs": [],
   "source": [
    "status = statuses[0]"
   ]
  },
  {
   "cell_type": "code",
   "execution_count": 70,
   "metadata": {
    "collapsed": false,
    "scrolled": true
   },
   "outputs": [
    {
     "data": {
      "text/plain": [
       "{u'created_at': u'Sat Nov 26 20:52:03 +0000 2016',\n",
       " u'favorite_count': 11596,\n",
       " u'hashtags': [{u'text': u'NoDAPL'}],\n",
       " u'id': 802615926361178113,\n",
       " u'id_str': u'802615926361178113',\n",
       " u'in_reply_to_screen_name': u'SenSanders',\n",
       " u'in_reply_to_status_id': 802615712804118529,\n",
       " u'in_reply_to_user_id': 29442313,\n",
       " u'lang': u'en',\n",
       " u'retweet_count': 6805,\n",
       " u'source': u'<a href=\"http://twitter.com\" rel=\"nofollow\">Twitter Web Client</a>',\n",
       " u'text': u'Mr. President: Stop the Dakota Access Pipeline. #NoDAPL',\n",
       " u'urls': [],\n",
       " u'user': {u'created_at': u'Tue Apr 07 13:02:35 +0000 2009',\n",
       "  u'description': u'Sen. Bernie Sanders is the longest serving independent in congressional history. Tweets ending in -B are from Bernie, and all others are from a staffer.',\n",
       "  u'favourites_count': 24,\n",
       "  u'followers_count': 3174497,\n",
       "  u'friends_count': 1971,\n",
       "  u'geo_enabled': True,\n",
       "  u'id': 29442313,\n",
       "  u'lang': u'en',\n",
       "  u'listed_count': 17179,\n",
       "  u'location': u'Vermont/DC',\n",
       "  u'name': u'Bernie Sanders',\n",
       "  u'profile_background_color': u'000000',\n",
       "  u'profile_background_image_url': u'http://pbs.twimg.com/profile_background_images/514189149444661248/pkGHMpZZ.jpeg',\n",
       "  u'profile_banner_url': u'https://pbs.twimg.com/profile_banners/29442313/1430854323',\n",
       "  u'profile_image_url': u'http://pbs.twimg.com/profile_images/794619281271033856/Fs0QQaH7_normal.jpg',\n",
       "  u'profile_link_color': u'44506A',\n",
       "  u'profile_sidebar_fill_color': u'D6CCB6',\n",
       "  u'profile_text_color': u'304562',\n",
       "  u'screen_name': u'SenSanders',\n",
       "  u'statuses_count': 15597,\n",
       "  u'time_zone': u'Eastern Time (US & Canada)',\n",
       "  u'url': u'http://t.co/8AS4FI1oge',\n",
       "  u'utc_offset': -18000,\n",
       "  u'verified': True},\n",
       " u'user_mentions': []}"
      ]
     },
     "execution_count": 70,
     "metadata": {},
     "output_type": "execute_result"
    }
   ],
   "source": [
    "# Here are all the fields in a Tweet\n",
    "\n",
    "status.AsDict()"
   ]
  },
  {
   "cell_type": "code",
   "execution_count": 62,
   "metadata": {
    "collapsed": false
   },
   "outputs": [
    {
     "data": {
      "text/plain": [
       "u'Sat Nov 26 20:52:03 +0000 2016'"
      ]
     },
     "execution_count": 62,
     "metadata": {},
     "output_type": "execute_result"
    }
   ],
   "source": [
    "status.created_at"
   ]
  },
  {
   "cell_type": "code",
   "execution_count": 63,
   "metadata": {
    "collapsed": false
   },
   "outputs": [
    {
     "data": {
      "text/plain": [
       "'2016-11-26 20'"
      ]
     },
     "execution_count": 63,
     "metadata": {},
     "output_type": "execute_result"
    }
   ],
   "source": [
    "import datetime \n",
    "datetime.datetime.strptime(status.created_at, '%a %b %d %H:%M:%S +0000 %Y').strftime('%Y-%m-%d %H')"
   ]
  },
  {
   "cell_type": "code",
   "execution_count": 64,
   "metadata": {
    "collapsed": false
   },
   "outputs": [
    {
     "data": {
      "text/plain": [
       "{u'created_at': u'Tue Apr 07 13:02:35 +0000 2009',\n",
       " u'description': u'Sen. Bernie Sanders is the longest serving independent in congressional history. Tweets ending in -B are from Bernie, and all others are from a staffer.',\n",
       " u'favourites_count': 24,\n",
       " u'followers_count': 3174487,\n",
       " u'friends_count': 1971,\n",
       " u'geo_enabled': True,\n",
       " u'id': 29442313,\n",
       " u'lang': u'en',\n",
       " u'listed_count': 17178,\n",
       " u'location': u'Vermont/DC',\n",
       " u'name': u'Bernie Sanders',\n",
       " u'profile_background_color': u'000000',\n",
       " u'profile_background_image_url': u'http://pbs.twimg.com/profile_background_images/514189149444661248/pkGHMpZZ.jpeg',\n",
       " u'profile_banner_url': u'https://pbs.twimg.com/profile_banners/29442313/1430854323',\n",
       " u'profile_image_url': u'http://pbs.twimg.com/profile_images/794619281271033856/Fs0QQaH7_normal.jpg',\n",
       " u'profile_link_color': u'44506A',\n",
       " u'profile_sidebar_fill_color': u'D6CCB6',\n",
       " u'profile_text_color': u'304562',\n",
       " u'screen_name': u'SenSanders',\n",
       " u'statuses_count': 15597,\n",
       " u'time_zone': u'Eastern Time (US & Canada)',\n",
       " u'url': u'http://t.co/8AS4FI1oge',\n",
       " u'utc_offset': -18000,\n",
       " u'verified': True}"
      ]
     },
     "execution_count": 64,
     "metadata": {},
     "output_type": "execute_result"
    }
   ],
   "source": [
    "# Every Tweet object includes a User object that has the following fields\n",
    "\n",
    "status.user.AsDict()"
   ]
  },
  {
   "cell_type": "code",
   "execution_count": 71,
   "metadata": {
    "collapsed": false,
    "scrolled": true
   },
   "outputs": [
    {
     "data": {
      "text/plain": [
       "[u'SenSanders',\n",
       " u'ajplus',\n",
       " u'ajplus',\n",
       " u'MaxPyziur',\n",
       " u'Quickieleaks',\n",
       " u'rappublicist',\n",
       " u'emwainwright08',\n",
       " u'MaxKingsleyEh',\n",
       " u'k_nightss',\n",
       " u'yayayarndiva',\n",
       " u'canativeobt',\n",
       " u'WBirarda',\n",
       " u'BigBlack0live',\n",
       " u'purplesofa',\n",
       " u'FC_WitchParty',\n",
       " u'JamesTheFranze',\n",
       " u'chatnread',\n",
       " u'billeniumbeach',\n",
       " u'bcfontt',\n",
       " u'simonaumich']"
      ]
     },
     "execution_count": 71,
     "metadata": {},
     "output_type": "execute_result"
    }
   ],
   "source": [
    "# all users\n",
    "tweet_users = [x.user.screen_name for x in statuses]\n",
    "tweet_users[:20]"
   ]
  },
  {
   "cell_type": "code",
   "execution_count": 72,
   "metadata": {
    "collapsed": false
   },
   "outputs": [
    {
     "data": {
      "text/plain": [
       "803090431814680582"
      ]
     },
     "execution_count": 72,
     "metadata": {},
     "output_type": "execute_result"
    }
   ],
   "source": [
    "# max_id\n",
    "\n",
    "statuses[-1].id"
   ]
  },
  {
   "cell_type": "code",
   "execution_count": 73,
   "metadata": {
    "collapsed": false
   },
   "outputs": [],
   "source": [
    "# In order to grab more data, we can iterate through search results by providing\n",
    "# the Tweet ID of the last result returned from the previous iteration (max_id)\n",
    "\n",
    "max_id = search_results[-1].id\n",
    "statuses += api.GetSearch(term=q, count=count, max_id=max_id)"
   ]
  },
  {
   "cell_type": "code",
   "execution_count": 74,
   "metadata": {
    "collapsed": false
   },
   "outputs": [
    {
     "data": {
      "text/plain": [
       "200"
      ]
     },
     "execution_count": 74,
     "metadata": {},
     "output_type": "execute_result"
    }
   ],
   "source": [
    "len(statuses)"
   ]
  },
  {
   "cell_type": "code",
   "execution_count": 76,
   "metadata": {
    "collapsed": false
   },
   "outputs": [],
   "source": [
    "# use a loop -> iterate multiple times to get many more tweets\n",
    "\n",
    "num_iterations = 30\n",
    "\n",
    "for i in range(num_iterations):\n",
    "    max_id = statuses[-1].id\n",
    "    statuses += api.GetSearch(term=q, count=count, max_id=max_id)"
   ]
  },
  {
   "cell_type": "code",
   "execution_count": 80,
   "metadata": {
    "collapsed": false
   },
   "outputs": [
    {
     "data": {
      "text/plain": [
       "3198"
      ]
     },
     "execution_count": 80,
     "metadata": {},
     "output_type": "execute_result"
    }
   ],
   "source": [
    "len(statuses)"
   ]
  },
  {
   "cell_type": "code",
   "execution_count": 79,
   "metadata": {
    "collapsed": false
   },
   "outputs": [],
   "source": [
    "# save our data in pickled format - so that we don't ahve to grab it again if our machine crashes\n",
    "\n",
    "import pickle\n",
    "path = 'data/'\n",
    "\n",
    "pickle.dump(statuses, open(path+'%s_tw.p' % q,'wb'))"
   ]
  },
  {
   "cell_type": "markdown",
   "metadata": {},
   "source": [
    "This was a simple hashtag search. It is worth noting that Twitter's search API enables some more advanced queries - https://dev.twitter.com/rest/public/search"
   ]
  },
  {
   "cell_type": "markdown",
   "metadata": {},
   "source": [
    "# Tweet Entities"
   ]
  },
  {
   "cell_type": "code",
   "execution_count": 81,
   "metadata": {
    "collapsed": false
   },
   "outputs": [
    {
     "name": "stdout",
     "output_type": "stream",
     "text": [
      "[\n",
      " \"Mr. President: Stop the Dakota Access Pipeline. #NoDAPL\", \n",
      " \"This veteran is shocked by the militarized police force used against #NoDAPL protesters. https://t.co/uORv4Zk4bL\", \n",
      " \"#NoDAPL activists faced hypothermia, internal bleeding and more after clashing with police in sub-freezing weather. https://t.co/8KHLxXUZVZ\", \n",
      " \"@HighSierraAaron @sierraclub\\n#GetTheFacts\\nhttps://t.co/KgrXeElVdP\\n#DAPL #NoDAPL #YesDAPL https://t.co/KpvZQCHSgW\", \n",
      " \"Wouldn't trust with a build up of law enforcement... \\n\\n#StandingRock #NoDAPL https://t.co/Dr4KAf4wp6\"\n",
      "]\n"
     ]
    }
   ],
   "source": [
    "status_texts = [ status.text for status in statuses ]\n",
    "\n",
    "print json.dumps(status_texts[0:5], indent=1)"
   ]
  },
  {
   "cell_type": "code",
   "execution_count": 89,
   "metadata": {
    "collapsed": false
   },
   "outputs": [
    {
     "name": "stdout",
     "output_type": "stream",
     "text": [
      "[\n",
      " \"HighSierraAaron\", \n",
      " \"sierraclub\", \n",
      " \"xeni\", \n",
      " \"cj_wentz\", \n",
      " \"RuthHHopkins\"\n",
      "]\n"
     ]
    }
   ],
   "source": [
    "screen_names = [ user_mention.screen_name \n",
    "                 for status in statuses\n",
    "                     for user_mention in status.user_mentions ]\n",
    "\n",
    "print json.dumps(screen_names[0:5], indent=1) "
   ]
  },
  {
   "cell_type": "code",
   "execution_count": 91,
   "metadata": {
    "collapsed": false
   },
   "outputs": [
    {
     "name": "stdout",
     "output_type": "stream",
     "text": [
      "[\n",
      " \"NoDAPL\", \n",
      " \"NoDAPL\", \n",
      " \"NoDAPL\", \n",
      " \"GetTheFacts\", \n",
      " \"DAPL\", \n",
      " \"NoDAPL\", \n",
      " \"YesDAPL\", \n",
      " \"StandingRock\", \n",
      " \"NoDAPL\", \n",
      " \"StandingRock\", \n",
      " \"nodapl\", \n",
      " \"StandforStandingRock\", \n",
      " \"NoDAPL\", \n",
      " \"NoDAPL\", \n",
      " \"NoDAPL\"\n",
      "]\n"
     ]
    }
   ],
   "source": [
    "hashtags = [ hashtag.text\n",
    "             for status in statuses\n",
    "                 for hashtag in status.hashtags ]\n",
    "\n",
    "print json.dumps(hashtags[0:15], indent=1)"
   ]
  },
  {
   "cell_type": "code",
   "execution_count": 92,
   "metadata": {
    "collapsed": false
   },
   "outputs": [
    {
     "name": "stdout",
     "output_type": "stream",
     "text": [
      "[\n",
      " \"Mr.\", \n",
      " \"President:\", \n",
      " \"Stop\", \n",
      " \"the\", \n",
      " \"Dakota\"\n",
      "]\n"
     ]
    }
   ],
   "source": [
    "# Compute a collection of all words from all tweets\n",
    "words = [ w \n",
    "          for t in status_texts \n",
    "              for w in t.split() ]\n",
    "\n",
    "print json.dumps(words[0:5], indent=1)"
   ]
  },
  {
   "cell_type": "code",
   "execution_count": 93,
   "metadata": {
    "collapsed": false
   },
   "outputs": [
    {
     "data": {
      "text/plain": [
       "[u'Mr.',\n",
       " u'President:',\n",
       " u'Stop',\n",
       " u'the',\n",
       " u'Dakota',\n",
       " u'Access',\n",
       " u'Pipeline.',\n",
       " u'#NoDAPL']"
      ]
     },
     "execution_count": 93,
     "metadata": {},
     "output_type": "execute_result"
    }
   ],
   "source": [
    "status_texts[0].split()"
   ]
  },
  {
   "cell_type": "code",
   "execution_count": 94,
   "metadata": {
    "collapsed": false
   },
   "outputs": [
    {
     "data": {
      "text/plain": [
       "50917"
      ]
     },
     "execution_count": 94,
     "metadata": {},
     "output_type": "execute_result"
    }
   ],
   "source": [
    "len(words)"
   ]
  },
  {
   "cell_type": "markdown",
   "metadata": {},
   "source": [
    "## Analyzing Tweets and Tweet Entities with Frequency Analysis"
   ]
  },
  {
   "cell_type": "markdown",
   "metadata": {},
   "source": [
    "From an empirical standpoint, counting observable things is the starting point for just about everything, and thus the starting point for any kind of statistical filtering or manipulation that strives to find what may be a faint signal in noisy data. Whereas we just extracted the first 5 items of each unranked list to get a feel for the data, let's now take a closer look at what's in the data by computing a frequency distribution and looking at the top 10 items in each list."
   ]
  },
  {
   "cell_type": "markdown",
   "metadata": {},
   "source": [
    "The result of the frequency distribution is a map of key/value\n",
    "      pairs corresponding to terms and their frequencies, so let's make\n",
    "      reviewing the results a little easier on the eyes by emitting a tabular\n",
    "      format. You can install a package called <code class=\"literal\">prettytable</code> by typing <strong class=\"userinput\"><code>pip install prettytable</code></strong> in a terminal; this\n",
    "      package provides a convenient way to emit a fixed-width tabular format\n",
    "      that can be easily copied-and-pasted."
   ]
  },
  {
   "cell_type": "code",
   "execution_count": 95,
   "metadata": {
    "collapsed": false
   },
   "outputs": [
    {
     "name": "stdout",
     "output_type": "stream",
     "text": [
      "[(u'#NoDAPL', 2602), (u'RT', 2570), (u'the', 1114), (u'to', 1112), (u'in', 645), (u'a', 613), (u'is', 584), (u'on', 570), (u'of', 468), (u'Standing', 358)]\n",
      "\n",
      "[(u'POTUS', 209), (u'RuthHHopkins', 123), (u'UR_Ninja', 116), (u'joshfoxfilm', 88), (u'DeanLeh', 81), (u'Heritage', 79), (u'benandjerrys', 65), (u'IENearth', 63), (u'theintercept', 56), (u'SenSanders', 55)]\n",
      "\n",
      "[(u'NoDAPL', 2820), (u'StandingRock', 389), (u'StandWithStandingRock', 262), (u'WaterIsLife', 200), (u'nodapl', 156), (u'NODAPL', 152), (u'standingrock', 145), (u'noDAPL', 108), (u'DAPL', 82), (u'MniWiconi', 56)]\n",
      "\n"
     ]
    }
   ],
   "source": [
    "from collections import Counter\n",
    "\n",
    "for item in [words, screen_names, hashtags]:\n",
    "    c = Counter(item)\n",
    "    print c.most_common()[:10] # top 10\n",
    "    print"
   ]
  },
  {
   "cell_type": "code",
   "execution_count": 97,
   "metadata": {
    "collapsed": false
   },
   "outputs": [
    {
     "name": "stdout",
     "output_type": "stream",
     "text": [
      "+----------+-------+\n",
      "| Word     | Count |\n",
      "+----------+-------+\n",
      "| #NoDAPL  |  2602 |\n",
      "| RT       |  2570 |\n",
      "| the      |  1114 |\n",
      "| to       |  1112 |\n",
      "| in       |   645 |\n",
      "| a        |   613 |\n",
      "| is       |   584 |\n",
      "| on       |   570 |\n",
      "| of       |   468 |\n",
      "| Standing |   358 |\n",
      "+----------+-------+\n",
      "+--------------+-------+\n",
      "| Screen Name  | Count |\n",
      "+--------------+-------+\n",
      "| POTUS        |   209 |\n",
      "| RuthHHopkins |   123 |\n",
      "| UR_Ninja     |   116 |\n",
      "| joshfoxfilm  |    88 |\n",
      "| DeanLeh      |    81 |\n",
      "| Heritage     |    79 |\n",
      "| benandjerrys |    65 |\n",
      "| IENearth     |    63 |\n",
      "| theintercept |    56 |\n",
      "| SenSanders   |    55 |\n",
      "+--------------+-------+\n",
      "+-----------------------+-------+\n",
      "| Hashtag               | Count |\n",
      "+-----------------------+-------+\n",
      "| NoDAPL                |  2820 |\n",
      "| StandingRock          |   389 |\n",
      "| StandWithStandingRock |   262 |\n",
      "| WaterIsLife           |   200 |\n",
      "| nodapl                |   156 |\n",
      "| NODAPL                |   152 |\n",
      "| standingrock          |   145 |\n",
      "| noDAPL                |   108 |\n",
      "| DAPL                  |    82 |\n",
      "| MniWiconi             |    56 |\n",
      "+-----------------------+-------+\n"
     ]
    }
   ],
   "source": [
    "from prettytable import PrettyTable\n",
    "\n",
    "for label, data in (('Word', words), \n",
    "                    ('Screen Name', screen_names), \n",
    "                    ('Hashtag', hashtags)):\n",
    "    pt = PrettyTable(field_names=[label, 'Count']) \n",
    "    c = Counter(data)\n",
    "    [ pt.add_row(kv) for kv in c.most_common()[:10] ]\n",
    "    pt.align[label], pt.align['Count'] = 'l', 'r' # Set column alignment\n",
    "    print pt"
   ]
  },
  {
   "cell_type": "code",
   "execution_count": null,
   "metadata": {
    "collapsed": false
   },
   "outputs": [],
   "source": []
  },
  {
   "cell_type": "markdown",
   "metadata": {},
   "source": [
    "Used code and examples from Mining the Social Web, 2nd Edition - https://rawgit.com/ptwobrussell/Mining-the-Social-Web-2nd-Edition/master/ipynb/html/Chapter%201%20-%20Mining%20Twitter.html"
   ]
  },
  {
   "cell_type": "markdown",
   "metadata": {},
   "source": [
    "Neat Link - https://github.com/lennerd/TwitterGraph"
   ]
  }
 ],
 "metadata": {
  "kernelspec": {
   "display_name": "Python 2",
   "language": "python",
   "name": "python2"
  },
  "language_info": {
   "codemirror_mode": {
    "name": "ipython",
    "version": 2
   },
   "file_extension": ".py",
   "mimetype": "text/x-python",
   "name": "python",
   "nbconvert_exporter": "python",
   "pygments_lexer": "ipython2",
   "version": "2.7.10"
  }
 },
 "nbformat": 4,
 "nbformat_minor": 0
}
